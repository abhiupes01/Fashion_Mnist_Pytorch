{
 "cells": [
  {
   "cell_type": "code",
   "execution_count": 1,
   "metadata": {},
   "outputs": [],
   "source": [
    "import numpy as np\n",
    "import pandas as pd\n",
    "import matplotlib.pyplot as plt\n",
    "%matplotlib inline\n",
    "import torch\n",
    "import torchvision\n",
    "import torch.nn as nn\n",
    "import torch.optim as optim\n",
    "import torch.nn.functional as func\n",
    "import torchvision.transforms as transforms\n",
    "from torch.autograd import Variable\n",
    "from torchvision import models\n",
    "from torch.utils.data import Dataset, DataLoader\n",
    "import warnings\n",
    "warnings.filterwarnings('ignore')\n",
    "from sklearn.metrics import confusion_matrix"
   ]
  },
  {
   "cell_type": "code",
   "execution_count": 3,
   "metadata": {},
   "outputs": [],
   "source": [
    "# define the path of the trai  and test data\n",
    "train_path = 'fashion-mnist_train.csv'\n",
    "test_path = 'fashion-mnist_test.csv'"
   ]
  },
  {
   "cell_type": "code",
   "execution_count": 4,
   "metadata": {},
   "outputs": [],
   "source": [
    "# load the dataset \n",
    "class fashion_mnist(Dataset):\n",
    "    def __init__(self,path,transform=None):\n",
    "        self.data = pd.read_csv(path)\n",
    "        self.transform = transform\n",
    "        img, label = [], []\n",
    "        for i in self.data.values:\n",
    "            img.append(i[1:])\n",
    "            label.append(i[0])\n",
    "        self.label = np.asarray(label)\n",
    "        self.img = np.asarray(img).reshape(-1,28,28).astype('float32')\n",
    "        \n",
    "    def __getitem__(self,index):\n",
    "        image, label = self.img[index], self.label[index]\n",
    "        \n",
    "        if self.transform is not None:\n",
    "            image = self.transform(image)\n",
    "            \n",
    "        return image,label\n",
    "            \n",
    "    def __len__(self):\n",
    "        return len(self.img)\n",
    "            \n",
    "        return image, label"
   ]
  },
  {
   "cell_type": "code",
   "execution_count": 5,
   "metadata": {},
   "outputs": [],
   "source": [
    "# load train and test data\n",
    "transform = transforms.Compose([\n",
    "   transforms.ToTensor() \n",
    "])\n",
    "\n",
    "train_data = fashion_mnist(train_path,transform=transform)\n",
    "test_data = fashion_mnist(test_path,transform=transform)"
   ]
  },
  {
   "cell_type": "code",
   "execution_count": 6,
   "metadata": {},
   "outputs": [],
   "source": [
    "# define the hyperparameters and load the dataloader\n",
    "batch_size = 60\n",
    "#n_iters = 5000\n",
    "learning_rate = 0.01\n",
    "momentum = 0.3\n",
    "#num_epochs = int(n_iters/(train_data.__len__()/batch_size))\n",
    "\n",
    "# dataloader\n",
    "train_loader = DataLoader(train_data,batch_size=batch_size,shuffle=True)\n",
    "test_loader = DataLoader(test_data,batch_size=batch_size,shuffle =True)"
   ]
  },
  {
   "cell_type": "code",
   "execution_count": 7,
   "metadata": {},
   "outputs": [],
   "source": [
    "# the tags in the datasets is given via a numbering system, below is the dict of the number and is corresponding tag\n",
    "tags = {0 :'T-shirt/top',\n",
    "                  1 :'Trouser',\n",
    "                  2 :'Pullover',\n",
    "                  3 :'Dress',\n",
    "                  4 :'Coat',\n",
    "                  5 :'Sandal',\n",
    "                  6 :'Shirt',\n",
    "                  7 :'Sneaker',\n",
    "                  8 :'Bag',\n",
    "                  9 :'Ankle boot'}"
   ]
  },
  {
   "cell_type": "code",
   "execution_count": 8,
   "metadata": {},
   "outputs": [
    {
     "data": {
      "image/png": "[encoded data removed]",
      "text/plain": [
       "<Figure size 504x504 with 6 Axes>"
      ]
     },
     "metadata": {
      "needs_background": "light"
     },
     "output_type": "display_data"
    }
   ],
   "source": [
    "# iterate through the dataloader\n",
    "_,(img,label) = next(enumerate(train_loader))\n",
    "fig = plt.figure(figsize=(7,7))\n",
    "for i in range(6):\n",
    "    plt.subplot(3,2,i+1)\n",
    "    plt.imshow(img[i][0])\n",
    "    plt.axis('off')\n",
    "    plt.title('{}'.format(tags[int(label[i].numpy())]))"
   ]
  },
  {
   "cell_type": "code",
   "execution_count": 79,
   "metadata": {},
   "outputs": [],
   "source": [
    "# build the convolution neural network\n",
    "class fashion_model(nn.Module):\n",
    "    def __init__(self):\n",
    "        super(fashion_model,self).__init__()\n",
    "        \n",
    "        # start with the bulind the model with convolution layers\n",
    "        self.layer1 = nn.Sequential(\n",
    "            nn.Conv2d(in_channels=1,out_channels=16,kernel_size =5, stride=1,padding=2),\n",
    "            nn.BatchNorm2d(16),\n",
    "            nn.ReLU(),\n",
    "            nn.MaxPool2d(kernel_size=2,stride=2)\n",
    "        )\n",
    "        self.layer2 = nn.Sequential(\n",
    "            nn.Conv2d(in_channels=16, out_channels=32,kernel_size=5,stride=1,padding=2),\n",
    "            nn.BatchNorm2d(32),\n",
    "            nn.ReLU(),\n",
    "            nn.MaxPool2d(kernel_size=2,stride=2)\n",
    "        )\n",
    "        \n",
    "        self.fc1 = nn.Linear(7*7*32,1000)\n",
    "        self.fc2 = nn.Linear(1000,10)\n",
    "        \n",
    "    def forward(self,x):\n",
    "        out = self.layer1(x)\n",
    "        out = self.layer2(out)\n",
    "        out = out.reshape(out.size(0),-1)\n",
    "        out = nn.ReLU()(out)\n",
    "        out = self.fc1(out)\n",
    "        out = nn.ReLU()(out)\n",
    "        out = self.fc2(out)\n",
    "        return out"
   ]
  },
  {
   "cell_type": "code",
   "execution_count": 80,
   "metadata": {},
   "outputs": [],
   "source": [
    "model = fashion_model()\n",
    "error = nn.CrossEntropyLoss()\n",
    "optimizer = optim.Adam(model.parameters(),lr=learning_rate)"
   ]
  },
  {
   "cell_type": "code",
   "execution_count": 110,
   "metadata": {},
   "outputs": [
    {
     "name": "stdout",
     "output_type": "stream",
     "text": [
      "fashion_model(\n",
      "  (layer1): Sequential(\n",
      "    (0): Conv2d(1, 16, kernel_size=(5, 5), stride=(1, 1), padding=(2, 2))\n",
      "    (1): BatchNorm2d(16, eps=1e-05, momentum=0.1, affine=True, track_running_stats=True)\n",
      "    (2): ReLU()\n",
      "    (3): MaxPool2d(kernel_size=2, stride=2, padding=0, dilation=1, ceil_mode=False)\n",
      "  )\n",
      "  (layer2): Sequential(\n",
      "    (0): Conv2d(16, 32, kernel_size=(5, 5), stride=(1, 1), padding=(2, 2))\n",
      "    (1): BatchNorm2d(32, eps=1e-05, momentum=0.1, affine=True, track_running_stats=True)\n",
      "    (2): ReLU()\n",
      "    (3): MaxPool2d(kernel_size=2, stride=2, padding=0, dilation=1, ceil_mode=False)\n",
      "  )\n",
      "  (fc1): Linear(in_features=1568, out_features=1000, bias=True)\n",
      "  (fc2): Linear(in_features=1000, out_features=10, bias=True)\n",
      ")\n"
     ]
    }
   ],
   "source": [
    "print(model)"
   ]
  },
  {
   "cell_type": "code",
   "execution_count": 81,
   "metadata": {},
   "outputs": [],
   "source": [
    "def train(num_epochs):\n",
    "    \n",
    "    model.train()\n",
    "    correct = 0\n",
    "    total = 0\n",
    "    train_error=0\n",
    "\n",
    "    for batch_id, (img,label) in enumerate(train_loader):\n",
    "        img, label = Variable(img), Variable(label)\n",
    "        optimizer.zero_grad()\n",
    "        output = model(img)\n",
    "        predict = torch.max(output.data,1)[1]\n",
    "        correct += (predict==label).sum()\n",
    "        total += len(label)\n",
    "            \n",
    "        # compute the loss\n",
    "        loss = error(output, label)\n",
    "        train_error = loss.item()\n",
    "        loss.backward()\n",
    "        optimizer.step()\n",
    "            \n",
    "        if (batch_id+1)%100 ==0:\n",
    "            print('Train Epoch: {} [{}/{} ({:.0f}%)]\\tLoss: {:.6f} \\t Accuracy: {}%'\n",
    "                    .format(epoch,(batch_id+1)*len(label),len(train_loader.dataset),\n",
    "                        100.0*(batch_id+1)/len(train_loader),loss.item(),100*correct/total))\n",
    "                \n",
    "            \n",
    "    \n",
    "    train_loss.append(train_error/int(len(train_loader)))\n",
    "    train_acc.append(100*correct/total)\n",
    "          \n",
    "        \n",
    "    # append the loss, accuracy and number of iterations\n",
    "          "
   ]
  },
  {
   "cell_type": "code",
   "execution_count": 82,
   "metadata": {},
   "outputs": [],
   "source": [
    "def test():\n",
    "    model.eval()\n",
    "    loss = 0\n",
    "    correct = 0\n",
    "    total = 0\n",
    "    \n",
    "    for i, (img,label) in enumerate(test_loader):\n",
    "        img, label = Variable(img), Variable(label)\n",
    "        \n",
    "        output = model(img)\n",
    "        predict = torch.max(output.data,1)[1]\n",
    "        loss_error = error(output,label)\n",
    "        loss += loss_error.item()\n",
    "        total += len(label)\n",
    "        correct += (predict==label).sum()\n",
    "        \n",
    "    loss /= len(test_loader.dataset)\n",
    "    test_loss.append(loss)\n",
    "    test_acc.append(100*correct/total)\n",
    "    print('\\nAverage Validation loss: {:.5f}\\t Accuracy: {}'.format(loss,100*correct/total))"
   ]
  },
  {
   "cell_type": "code",
   "execution_count": 83,
   "metadata": {},
   "outputs": [
    {
     "name": "stdout",
     "output_type": "stream",
     "text": [
      "Train Epoch: 0 [6000/60000 (10%)]\tLoss: 0.678437 \t Accuracy: 63%\n",
      "Train Epoch: 0 [12000/60000 (20%)]\tLoss: 0.595381 \t Accuracy: 70%\n",
      "Train Epoch: 0 [18000/60000 (30%)]\tLoss: 0.502638 \t Accuracy: 74%\n",
      "Train Epoch: 0 [24000/60000 (40%)]\tLoss: 0.486310 \t Accuracy: 76%\n",
      "Train Epoch: 0 [30000/60000 (50%)]\tLoss: 0.349632 \t Accuracy: 78%\n",
      "Train Epoch: 0 [36000/60000 (60%)]\tLoss: 0.690727 \t Accuracy: 79%\n",
      "Train Epoch: 0 [42000/60000 (70%)]\tLoss: 0.458854 \t Accuracy: 80%\n",
      "Train Epoch: 0 [48000/60000 (80%)]\tLoss: 0.448559 \t Accuracy: 81%\n",
      "Train Epoch: 0 [54000/60000 (90%)]\tLoss: 0.463590 \t Accuracy: 81%\n",
      "Train Epoch: 0 [60000/60000 (100%)]\tLoss: 0.388342 \t Accuracy: 82%\n",
      "\n",
      "Average Validation loss: 0.00608\t Accuracy: 86\n",
      "Train Epoch: 1 [6000/60000 (10%)]\tLoss: 0.511132 \t Accuracy: 88%\n",
      "Train Epoch: 1 [12000/60000 (20%)]\tLoss: 0.351023 \t Accuracy: 88%\n",
      "Train Epoch: 1 [18000/60000 (30%)]\tLoss: 0.325936 \t Accuracy: 88%\n",
      "Train Epoch: 1 [24000/60000 (40%)]\tLoss: 0.376291 \t Accuracy: 88%\n",
      "Train Epoch: 1 [30000/60000 (50%)]\tLoss: 0.146977 \t Accuracy: 88%\n",
      "Train Epoch: 1 [36000/60000 (60%)]\tLoss: 0.190094 \t Accuracy: 88%\n",
      "Train Epoch: 1 [42000/60000 (70%)]\tLoss: 0.414773 \t Accuracy: 88%\n",
      "Train Epoch: 1 [48000/60000 (80%)]\tLoss: 0.327020 \t Accuracy: 88%\n",
      "Train Epoch: 1 [54000/60000 (90%)]\tLoss: 0.332643 \t Accuracy: 88%\n",
      "Train Epoch: 1 [60000/60000 (100%)]\tLoss: 0.332369 \t Accuracy: 88%\n",
      "\n",
      "Average Validation loss: 0.00469\t Accuracy: 89\n",
      "Train Epoch: 2 [6000/60000 (10%)]\tLoss: 0.166166 \t Accuracy: 90%\n",
      "Train Epoch: 2 [12000/60000 (20%)]\tLoss: 0.237915 \t Accuracy: 90%\n",
      "Train Epoch: 2 [18000/60000 (30%)]\tLoss: 0.163561 \t Accuracy: 90%\n",
      "Train Epoch: 2 [24000/60000 (40%)]\tLoss: 0.148741 \t Accuracy: 90%\n",
      "Train Epoch: 2 [30000/60000 (50%)]\tLoss: 0.187764 \t Accuracy: 90%\n",
      "Train Epoch: 2 [36000/60000 (60%)]\tLoss: 0.258362 \t Accuracy: 89%\n",
      "Train Epoch: 2 [42000/60000 (70%)]\tLoss: 0.387667 \t Accuracy: 90%\n",
      "Train Epoch: 2 [48000/60000 (80%)]\tLoss: 0.178120 \t Accuracy: 90%\n",
      "Train Epoch: 2 [54000/60000 (90%)]\tLoss: 0.436027 \t Accuracy: 90%\n",
      "Train Epoch: 2 [60000/60000 (100%)]\tLoss: 0.291990 \t Accuracy: 90%\n",
      "\n",
      "Average Validation loss: 0.00450\t Accuracy: 90\n",
      "Train Epoch: 3 [6000/60000 (10%)]\tLoss: 0.230587 \t Accuracy: 91%\n",
      "Train Epoch: 3 [12000/60000 (20%)]\tLoss: 0.514711 \t Accuracy: 91%\n",
      "Train Epoch: 3 [18000/60000 (30%)]\tLoss: 0.180741 \t Accuracy: 91%\n",
      "Train Epoch: 3 [24000/60000 (40%)]\tLoss: 0.261741 \t Accuracy: 91%\n",
      "Train Epoch: 3 [30000/60000 (50%)]\tLoss: 0.121591 \t Accuracy: 91%\n",
      "Train Epoch: 3 [36000/60000 (60%)]\tLoss: 0.521753 \t Accuracy: 91%\n",
      "Train Epoch: 3 [42000/60000 (70%)]\tLoss: 0.120659 \t Accuracy: 91%\n",
      "Train Epoch: 3 [48000/60000 (80%)]\tLoss: 0.315639 \t Accuracy: 91%\n",
      "Train Epoch: 3 [54000/60000 (90%)]\tLoss: 0.185204 \t Accuracy: 91%\n",
      "Train Epoch: 3 [60000/60000 (100%)]\tLoss: 0.186985 \t Accuracy: 91%\n",
      "\n",
      "Average Validation loss: 0.00434\t Accuracy: 90\n",
      "Train Epoch: 4 [6000/60000 (10%)]\tLoss: 0.159852 \t Accuracy: 92%\n",
      "Train Epoch: 4 [12000/60000 (20%)]\tLoss: 0.104220 \t Accuracy: 92%\n",
      "Train Epoch: 4 [18000/60000 (30%)]\tLoss: 0.289373 \t Accuracy: 92%\n",
      "Train Epoch: 4 [24000/60000 (40%)]\tLoss: 0.265900 \t Accuracy: 91%\n",
      "Train Epoch: 4 [30000/60000 (50%)]\tLoss: 0.125543 \t Accuracy: 91%\n",
      "Train Epoch: 4 [36000/60000 (60%)]\tLoss: 0.340564 \t Accuracy: 91%\n",
      "Train Epoch: 4 [42000/60000 (70%)]\tLoss: 0.325535 \t Accuracy: 91%\n",
      "Train Epoch: 4 [48000/60000 (80%)]\tLoss: 0.165920 \t Accuracy: 91%\n",
      "Train Epoch: 4 [54000/60000 (90%)]\tLoss: 0.296033 \t Accuracy: 91%\n",
      "Train Epoch: 4 [60000/60000 (100%)]\tLoss: 0.376983 \t Accuracy: 91%\n",
      "\n",
      "Average Validation loss: 0.00417\t Accuracy: 90\n",
      "Train Epoch: 5 [6000/60000 (10%)]\tLoss: 0.325795 \t Accuracy: 92%\n",
      "Train Epoch: 5 [12000/60000 (20%)]\tLoss: 0.089896 \t Accuracy: 92%\n",
      "Train Epoch: 5 [18000/60000 (30%)]\tLoss: 0.272921 \t Accuracy: 92%\n",
      "Train Epoch: 5 [24000/60000 (40%)]\tLoss: 0.255745 \t Accuracy: 92%\n",
      "Train Epoch: 5 [30000/60000 (50%)]\tLoss: 0.162977 \t Accuracy: 92%\n",
      "Train Epoch: 5 [36000/60000 (60%)]\tLoss: 0.204284 \t Accuracy: 92%\n",
      "Train Epoch: 5 [42000/60000 (70%)]\tLoss: 0.170659 \t Accuracy: 92%\n",
      "Train Epoch: 5 [48000/60000 (80%)]\tLoss: 0.157017 \t Accuracy: 91%\n",
      "Train Epoch: 5 [54000/60000 (90%)]\tLoss: 0.121519 \t Accuracy: 91%\n",
      "Train Epoch: 5 [60000/60000 (100%)]\tLoss: 0.113946 \t Accuracy: 91%\n",
      "\n",
      "Average Validation loss: 0.00427\t Accuracy: 90\n",
      "Train Epoch: 6 [6000/60000 (10%)]\tLoss: 0.116774 \t Accuracy: 92%\n",
      "Train Epoch: 6 [12000/60000 (20%)]\tLoss: 0.114645 \t Accuracy: 92%\n",
      "Train Epoch: 6 [18000/60000 (30%)]\tLoss: 0.215252 \t Accuracy: 92%\n",
      "Train Epoch: 6 [24000/60000 (40%)]\tLoss: 0.183527 \t Accuracy: 92%\n",
      "Train Epoch: 6 [30000/60000 (50%)]\tLoss: 0.116037 \t Accuracy: 92%\n",
      "Train Epoch: 6 [36000/60000 (60%)]\tLoss: 0.113504 \t Accuracy: 92%\n",
      "Train Epoch: 6 [42000/60000 (70%)]\tLoss: 0.174883 \t Accuracy: 92%\n",
      "Train Epoch: 6 [48000/60000 (80%)]\tLoss: 0.125918 \t Accuracy: 92%\n",
      "Train Epoch: 6 [54000/60000 (90%)]\tLoss: 0.161334 \t Accuracy: 92%\n",
      "Train Epoch: 6 [60000/60000 (100%)]\tLoss: 0.235268 \t Accuracy: 92%\n",
      "\n",
      "Average Validation loss: 0.00422\t Accuracy: 91\n",
      "Train Epoch: 7 [6000/60000 (10%)]\tLoss: 0.170990 \t Accuracy: 92%\n",
      "Train Epoch: 7 [12000/60000 (20%)]\tLoss: 0.322544 \t Accuracy: 92%\n",
      "Train Epoch: 7 [18000/60000 (30%)]\tLoss: 0.095232 \t Accuracy: 92%\n",
      "Train Epoch: 7 [24000/60000 (40%)]\tLoss: 0.175236 \t Accuracy: 92%\n",
      "Train Epoch: 7 [30000/60000 (50%)]\tLoss: 0.178418 \t Accuracy: 92%\n",
      "Train Epoch: 7 [36000/60000 (60%)]\tLoss: 0.240939 \t Accuracy: 92%\n",
      "Train Epoch: 7 [42000/60000 (70%)]\tLoss: 0.135438 \t Accuracy: 92%\n",
      "Train Epoch: 7 [48000/60000 (80%)]\tLoss: 0.109649 \t Accuracy: 92%\n",
      "Train Epoch: 7 [54000/60000 (90%)]\tLoss: 0.247417 \t Accuracy: 92%\n",
      "Train Epoch: 7 [60000/60000 (100%)]\tLoss: 0.309840 \t Accuracy: 92%\n",
      "\n",
      "Average Validation loss: 0.00411\t Accuracy: 91\n",
      "Train Epoch: 8 [6000/60000 (10%)]\tLoss: 0.137649 \t Accuracy: 93%\n",
      "Train Epoch: 8 [12000/60000 (20%)]\tLoss: 0.106223 \t Accuracy: 93%\n",
      "Train Epoch: 8 [18000/60000 (30%)]\tLoss: 0.146944 \t Accuracy: 93%\n",
      "Train Epoch: 8 [24000/60000 (40%)]\tLoss: 0.226813 \t Accuracy: 93%\n",
      "Train Epoch: 8 [30000/60000 (50%)]\tLoss: 0.188333 \t Accuracy: 93%\n",
      "Train Epoch: 8 [36000/60000 (60%)]\tLoss: 0.191070 \t Accuracy: 93%\n",
      "Train Epoch: 8 [42000/60000 (70%)]\tLoss: 0.210472 \t Accuracy: 93%\n",
      "Train Epoch: 8 [48000/60000 (80%)]\tLoss: 0.154720 \t Accuracy: 93%\n",
      "Train Epoch: 8 [54000/60000 (90%)]\tLoss: 0.157909 \t Accuracy: 92%\n",
      "Train Epoch: 8 [60000/60000 (100%)]\tLoss: 0.153908 \t Accuracy: 92%\n",
      "\n",
      "Average Validation loss: 0.00424\t Accuracy: 91\n",
      "Train Epoch: 9 [6000/60000 (10%)]\tLoss: 0.225151 \t Accuracy: 93%\n",
      "Train Epoch: 9 [12000/60000 (20%)]\tLoss: 0.105567 \t Accuracy: 93%\n",
      "Train Epoch: 9 [18000/60000 (30%)]\tLoss: 0.134988 \t Accuracy: 93%\n",
      "Train Epoch: 9 [24000/60000 (40%)]\tLoss: 0.134708 \t Accuracy: 93%\n",
      "Train Epoch: 9 [30000/60000 (50%)]\tLoss: 0.171048 \t Accuracy: 93%\n",
      "Train Epoch: 9 [36000/60000 (60%)]\tLoss: 0.153232 \t Accuracy: 93%\n",
      "Train Epoch: 9 [42000/60000 (70%)]\tLoss: 0.105727 \t Accuracy: 93%\n",
      "Train Epoch: 9 [48000/60000 (80%)]\tLoss: 0.145457 \t Accuracy: 93%\n",
      "Train Epoch: 9 [54000/60000 (90%)]\tLoss: 0.408614 \t Accuracy: 93%\n",
      "Train Epoch: 9 [60000/60000 (100%)]\tLoss: 0.123366 \t Accuracy: 93%\n",
      "\n",
      "Average Validation loss: 0.00433\t Accuracy: 91\n"
     ]
    }
   ],
   "source": [
    "n_epochs = 10\n",
    "train_loss = []\n",
    "train_acc = []\n",
    "test_loss = []\n",
    "test_acc = []\n",
    "for epoch in range(n_epochs):\n",
    "    train(epoch)\n",
    "    test()"
   ]
  },
  {
   "cell_type": "code",
   "execution_count": 84,
   "metadata": {},
   "outputs": [
    {
     "data": {
      "text/plain": [
       "[<matplotlib.lines.Line2D at 0x220afc822e8>]"
      ]
     },
     "execution_count": 84,
     "metadata": {},
     "output_type": "execute_result"
    },
    {
     "data": {
      "image/png": "[encoded data removed]",
      "text/plain": [
       "<Figure size 432x288 with 1 Axes>"
      ]
     },
     "metadata": {
      "needs_background": "light"
     },
     "output_type": "display_data"
    }
   ],
   "source": [
    "plt.plot(train_loss)\n",
    "plt.plot(test_loss)"
   ]
  },
  {
   "cell_type": "markdown",
   "metadata": {},
   "source": []
  },
  {
   "cell_type": "code",
   "execution_count": 85,
   "metadata": {},
   "outputs": [
    {
     "data": {
      "text/plain": [
       "[<matplotlib.lines.Line2D at 0x220b33ea470>]"
      ]
     },
     "execution_count": 85,
     "metadata": {},
     "output_type": "execute_result"
    },
    {
     "data": {
      "image/png": "[encoded data removed]",
      "text/plain": [
       "<Figure size 432x288 with 1 Axes>"
      ]
     },
     "metadata": {
      "needs_background": "light"
     },
     "output_type": "display_data"
    }
   ],
   "source": [
    "plt.plot(train_acc)\n",
    "plt.plot(test_acc)"
   ]
  },
  {
   "cell_type": "code",
   "execution_count": 87,
   "metadata": {},
   "outputs": [],
   "source": [
    "# save the model\n",
    "torch.save(model.state_dict(),'fashion_mnist.pth')\n",
    "torch.save(optimizer.state_dict,'optimizer.pth')"
   ]
  },
  {
   "cell_type": "code",
   "execution_count": 100,
   "metadata": {},
   "outputs": [
    {
     "data": {
      "image/png": "[encoded data removed]",
      "text/plain": [
       "<Figure size 720x720 with 6 Axes>"
      ]
     },
     "metadata": {
      "needs_background": "light"
     },
     "output_type": "display_data"
    }
   ],
   "source": [
    "# load and predict from the model\n",
    "_,(image,label) = next(enumerate(test_loader))\n",
    "with torch.no_grad():\n",
    "    output = model(image)\n",
    "fig = plt.figure(figsize=(10,10))\n",
    "for i in range(6):\n",
    "    plt.subplot(3,2,i+1)\n",
    "    plt.imshow(image[i][0])\n",
    "    pred = output.data.max(1,keepdim=True)[1][i].item()\n",
    "    plt.axis('off')\n",
    "    plt.title('Label:{} || Predicted: {}'.format(tags[int(label[i].numpy())],tags[int(pred)]))"
   ]
  },
  {
   "cell_type": "code",
   "execution_count": null,
   "metadata": {},
   "outputs": [],
   "source": []
  }
 ],
 "metadata": {
  "kernelspec": {
   "display_name": "Python 3",
   "language": "python",
   "name": "python3"
  },
  "language_info": {
   "codemirror_mode": {
    "name": "ipython",
    "version": 3
   },
   "file_extension": ".py",
   "mimetype": "text/x-python",
   "name": "python",
   "nbconvert_exporter": "python",
   "pygments_lexer": "ipython3",
   "version": "3.7.3"
  }
 },
 "nbformat": 4,
 "nbformat_minor": 4
}
